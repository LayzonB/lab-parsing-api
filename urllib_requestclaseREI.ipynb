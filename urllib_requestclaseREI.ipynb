{
  "nbformat": 4,
  "nbformat_minor": 0,
  "metadata": {
    "colab": {
      "name": "urllib request",
      "provenance": []
    },
    "kernelspec": {
      "name": "python3",
      "display_name": "Python 3"
    }
  },
  "cells": [
    {
      "cell_type": "code",
      "metadata": {
        "id": "xiPmnzAbH6vl"
      },
      "source": [
        "import re\n",
        "import json\n",
        "import requests\n",
        "import urllib.request"
      ],
      "execution_count": 20,
      "outputs": []
    },
    {
      "cell_type": "code",
      "metadata": {
        "id": "O1faNnLfH5eH"
      },
      "source": [
        "url = 'https://www.zalando.fr/api/catalog/articles?categories=promo-femme&limit=84&offset=84&sort=popularity'"
      ],
      "execution_count": 27,
      "outputs": []
    },
    {
      "cell_type": "code",
      "metadata": {
        "id": "p9TGPqKnMMSW"
      },
      "source": [
        "request = urllib.request.urlopen(url)\n",
        "data = json.load(request)"
      ],
      "execution_count": 28,
      "outputs": []
    },
    {
      "cell_type": "code",
      "metadata": {
        "id": "GXDZZub9Mgvs",
        "outputId": "6c6dd2d2-4793-4405-ae22-8f636aaa78b1",
        "colab": {
          "base_uri": "https://localhost:8080/"
        }
      },
      "source": [
        "data.keys()"
      ],
      "execution_count": 30,
      "outputs": [
        {
          "output_type": "execute_result",
          "data": {
            "text/plain": [
              "dict_keys(['total_count', 'pagination', 'sort', 'articles', 'query_path', 'previous_page_path', 'next_page_path', 'query_params', 'page_gender', 'premium', 'appliedSort', 'filters', 'total_article_count', 'single_assortment_entrypoints', 'multi_assortment_entrypoints', 'filter_groups', 'plusStatus', 'categoryTree', 'sortingKeys', 'breadcrumbs', 'querySemantics', 'articlesToShow', 'octopusTests', 'locale', 'isLoggedIn', 'notification', 'resetFilters', 'selectedFilters', 'ssrArticleCount', 'feedbackId', 'variants', 'contentPositions', 'followBrandsBannerEnabled', 'prideEnabled', 'lazyArticleImages', 'hideSearchTerm', 'iconPaths', 'teaser', 'inCatalogTeaser', 'entryPointTeasers', 'upperInCatTeaser', 'inGridTeaser', 'wishlist', 'pills', 'sizeOnboardingDialog'])"
            ]
          },
          "metadata": {
            "tags": []
          },
          "execution_count": 30
        }
      ]
    },
    {
      "cell_type": "code",
      "metadata": {
        "id": "wkgAkqvEMnly",
        "outputId": "5645786d-f549-45e3-d3ab-5f86b9faf19d",
        "colab": {
          "base_uri": "https://localhost:8080/"
        }
      },
      "source": [
        "data['total_count']"
      ],
      "execution_count": 31,
      "outputs": [
        {
          "output_type": "execute_result",
          "data": {
            "text/plain": [
              "193676"
            ]
          },
          "metadata": {
            "tags": []
          },
          "execution_count": 31
        }
      ]
    },
    {
      "cell_type": "code",
      "metadata": {
        "id": "YH00HxrRNUiz"
      },
      "source": [
        ""
      ],
      "execution_count": null,
      "outputs": []
    }
  ]
}